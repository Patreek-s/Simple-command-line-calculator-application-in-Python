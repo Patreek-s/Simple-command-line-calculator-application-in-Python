{
  "nbformat": 4,
  "nbformat_minor": 0,
  "metadata": {
    "colab": {
      "provenance": []
    },
    "kernelspec": {
      "name": "python3",
      "display_name": "Python 3"
    },
    "language_info": {
      "name": "python"
    }
  },
  "cells": [
    {
      "cell_type": "code",
      "execution_count": 3,
      "metadata": {
        "colab": {
          "base_uri": "https://localhost:8080/"
        },
        "id": "mUrPsKzFMihI",
        "outputId": "28952af4-736c-4191-c5eb-c285a845e4ad"
      },
      "outputs": [
        {
          "output_type": "stream",
          "name": "stdout",
          "text": [
            "Select operation:\n",
            "1. Add\n",
            "2. Subtract\n",
            "3. Multiply\n",
            "4. Divide\n",
            "Enter choice (1/2/3/4): 1\n",
            "Enter first number: 4\n",
            "Enter second number: 9\n",
            "4.0 + 9.0 = 13.0\n",
            "Do you want to perform another calculation? (yes/no): no\n",
            "Thank you for using!\n"
          ]
        }
      ],
      "source": [
        "def add(x, y):\n",
        "    return x + y\n",
        "\n",
        "def subtract(x, y):\n",
        "    return x - y\n",
        "\n",
        "def multiply(x, y):\n",
        "    return x * y\n",
        "\n",
        "def divide(x, y):\n",
        "    if y == 0:\n",
        "        return \"Error! Division by zero.\"\n",
        "    return x / y\n",
        "\n",
        "def calculator():\n",
        "    print(\"Select operation:\")\n",
        "    print(\"1. Add\")\n",
        "    print(\"2. Subtract\")\n",
        "    print(\"3. Multiply\")\n",
        "    print(\"4. Divide\")\n",
        "\n",
        "    while True:\n",
        "        choice = input(\"Enter choice (1/2/3/4): \")\n",
        "\n",
        "        if choice in ['1', '2', '3', '4']:\n",
        "            try:\n",
        "                num1 = float(input(\"Enter first number: \"))\n",
        "                num2 = float(input(\"Enter second number: \"))\n",
        "            except ValueError:\n",
        "                print(\"Invalid input. Please enter numeric values.\")\n",
        "                continue\n",
        "\n",
        "            if choice == '1':\n",
        "                print(f\"{num1} + {num2} = {add(num1, num2)}\")\n",
        "            elif choice == '2':\n",
        "                print(f\"{num1} - {num2} = {subtract(num1, num2)}\")\n",
        "            elif choice == '3':\n",
        "                print(f\"{num1} * {num2} = {multiply(num1, num2)}\")\n",
        "            elif choice == '4':\n",
        "                result = divide(num1, num2)\n",
        "                if result == \"Error! Division by zero.\":\n",
        "                    print(result)\n",
        "                else:\n",
        "                    print(f\"{num1} / {num2} = {result}\")\n",
        "\n",
        "        else:\n",
        "            print(\"Invalid input. Please enter a number between 1 and 4.\")\n",
        "\n",
        "        next_calculation = input(\"Do you want to perform another calculation? (yes/no): \")\n",
        "        if next_calculation.lower() != 'yes':\n",
        "            print(\"Thank you for using!\")\n",
        "            break\n",
        "\n",
        "if __name__ == \"__main__\":\n",
        "    calculator()"
      ]
    }
  ]
}